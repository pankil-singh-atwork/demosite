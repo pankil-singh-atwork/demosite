{
  "nbformat": 4,
  "nbformat_minor": 0,
  "metadata": {
    "colab": {
      "provenance": [],
      "authorship_tag": "ABX9TyNQvljP6bZzYz/M4MmqOoYp",
      "include_colab_link": true
    },
    "kernelspec": {
      "name": "python3",
      "display_name": "Python 3"
    },
    "language_info": {
      "name": "python"
    }
  },
  "cells": [
    {
      "cell_type": "markdown",
      "metadata": {
        "id": "view-in-github",
        "colab_type": "text"
      },
      "source": [
        "<a href=\"https://colab.research.google.com/github/pankil-singh-atwork/demosite/blob/main/LAB1_NAME.ipynb\" target=\"_parent\"><img src=\"https://colab.research.google.com/assets/colab-badge.svg\" alt=\"Open In Colab\"/></a>"
      ]
    },
    {
      "cell_type": "markdown",
      "source": [
        "# Name - Pankil Kumar Singh\n",
        "# Reg No - 20MID0159"
      ],
      "metadata": {
        "id": "Pz4lsRFglRbP"
      }
    },
    {
      "cell_type": "code",
      "execution_count": 10,
      "metadata": {
        "colab": {
          "base_uri": "https://localhost:8080/",
          "height": 190
        },
        "id": "HEfq_NrBkF9F",
        "outputId": "b140fadf-073c-4ea4-d10b-52d3ce8b4bc1"
      },
      "outputs": [
        {
          "output_type": "display_data",
          "data": {
            "text/plain": [
              "<Figure size 640x480 with 1 Axes>"
            ],
            "image/png": "[encoded data removed]"
          },
          "metadata": {}
        }
      ],
      "source": [
        "import matplotlib.pyplot as plt\n",
        "\n",
        "def dda_line(x0, y0, x1, y1):\n",
        "    dx = x1 - x0\n",
        "    dy = y1 - y0\n",
        "\n",
        "    steps = max(abs(dx), abs(dy))\n",
        "\n",
        "    x_increment = dx / steps\n",
        "    y_increment = dy / steps\n",
        "\n",
        "    x = x0\n",
        "    y = y0\n",
        "\n",
        "    points = []\n",
        "\n",
        "    for i in range(steps + 1):\n",
        "        points.append((round(x), round(y)))\n",
        "        x += x_increment\n",
        "        y += y_increment\n",
        "\n",
        "    return points\n",
        "\n",
        "def plot_lines(lines):\n",
        "    for line in lines:\n",
        "        x_coords, y_coords = zip(*line)\n",
        "        plt.plot(x_coords, y_coords, color='black')\n",
        "\n",
        "    plt.xlabel('x')\n",
        "    plt.ylabel('y')\n",
        "    plt.title('DDA Line Drawing Algorithm - PANKIL')\n",
        "    plt.grid()\n",
        "    plt.gca().set_aspect('equal', adjustable='box')\n",
        "    plt.show()\n",
        "\n",
        "def draw_letter_P(x_offset, y_offset):\n",
        "    vertices = [\n",
        "        (x_offset, y_offset), (x_offset, y_offset + 30),  # Left vertical line\n",
        "        (x_offset, y_offset + 30), (x_offset + 15, y_offset + 30),  # Top horizontal line\n",
        "        (x_offset + 15, y_offset + 30), (x_offset + 15, y_offset + 20),  # Right vertical line\n",
        "        (x_offset + 15, y_offset + 20), (x_offset, y_offset + 20)  # Middle horizontal line\n",
        "    ]\n",
        "\n",
        "    lines = []\n",
        "    for i in range(0, len(vertices), 2):\n",
        "        x0, y0 = vertices[i]\n",
        "        x1, y1 = vertices[i + 1]\n",
        "        lines.append(dda_line(x0, y0, x1, y1))\n",
        "\n",
        "    return lines\n",
        "\n",
        "def draw_letter_A(x_offset, y_offset):\n",
        "    vertices = [\n",
        "        (x_offset, y_offset), (x_offset + 10, y_offset + 30),  # Left side\n",
        "        (x_offset + 10, y_offset + 30), (x_offset + 20, y_offset),  # Right side\n",
        "        (x_offset + 5, y_offset + 15), (x_offset + 15, y_offset + 15)  # Middle bar\n",
        "    ]\n",
        "\n",
        "    lines = []\n",
        "    for i in range(0, len(vertices), 2):\n",
        "        x0, y0 = vertices[i]\n",
        "        x1, y1 = vertices[i + 1]\n",
        "        lines.append(dda_line(x0, y0, x1, y1))\n",
        "\n",
        "    return lines\n",
        "\n",
        "def draw_letter_N(x_offset, y_offset):\n",
        "    vertices = [\n",
        "        (x_offset, y_offset), (x_offset, y_offset + 30),  # Left vertical line\n",
        "        (x_offset, y_offset + 30), (x_offset + 20, y_offset),  # Diagonal line\n",
        "        (x_offset + 20, y_offset), (x_offset + 20, y_offset + 30)  # Right vertical line\n",
        "    ]\n",
        "\n",
        "    lines = []\n",
        "    for i in range(0, len(vertices), 2):\n",
        "        x0, y0 = vertices[i]\n",
        "        x1, y1 = vertices[i + 1]\n",
        "        lines.append(dda_line(x0, y0, x1, y1))\n",
        "\n",
        "    return lines\n",
        "\n",
        "def draw_letter_K(x_offset, y_offset):\n",
        "    vertices = [\n",
        "        (x_offset, y_offset), (x_offset, y_offset + 30),  # Left vertical line\n",
        "        (x_offset, y_offset + 15), (x_offset + 20, y_offset + 30),  # Top right diagonal line\n",
        "        (x_offset, y_offset + 15), (x_offset + 20, y_offset)  # Bottom right diagonal line\n",
        "    ]\n",
        "\n",
        "    lines = []\n",
        "    for i in range(0, len(vertices), 2):\n",
        "        x0, y0 = vertices[i]\n",
        "        x1, y1 = vertices[i + 1]\n",
        "        lines.append(dda_line(x0, y0, x1, y1))\n",
        "\n",
        "    return lines\n",
        "\n",
        "def draw_letter_I(x_offset, y_offset):\n",
        "    vertices = [\n",
        "        (x_offset, y_offset), (x_offset, y_offset + 30)  # Vertical line\n",
        "    ]\n",
        "\n",
        "    lines = []\n",
        "    for i in range(0, len(vertices), 2):\n",
        "        x0, y0 = vertices[i]\n",
        "        x1, y1 = vertices[i + 1]\n",
        "        lines.append(dda_line(x0, y0, x1, y1))\n",
        "\n",
        "    return lines\n",
        "\n",
        "def draw_letter_L(x_offset, y_offset):\n",
        "    vertices = [\n",
        "        (x_offset, y_offset + 30), (x_offset, y_offset),  # Left vertical line\n",
        "        (x_offset, y_offset), (x_offset + 20, y_offset)  # Bottom horizontal line\n",
        "    ]\n",
        "\n",
        "    lines = []\n",
        "    for i in range(0, len(vertices), 2):\n",
        "        x0, y0 = vertices[i]\n",
        "        x1, y1 = vertices[i + 1]\n",
        "        lines.append(dda_line(x0, y0, x1, y1))\n",
        "\n",
        "    return lines\n",
        "\n",
        "def draw_name_pankil():\n",
        "    letters = []\n",
        "    offset = 10\n",
        "    letters.extend(draw_letter_P(offset, 10))\n",
        "    offset += 30\n",
        "    letters.extend(draw_letter_A(offset, 10))\n",
        "    offset += 30\n",
        "    letters.extend(draw_letter_N(offset, 10))\n",
        "    offset += 30\n",
        "    letters.extend(draw_letter_K(offset, 10))\n",
        "    offset += 30\n",
        "    letters.extend(draw_letter_I(offset, 10))\n",
        "    offset += 30\n",
        "    letters.extend(draw_letter_L(offset, 10))\n",
        "    return letters\n",
        "\n",
        "lines = draw_name_pankil()\n",
        "plot_lines(lines)\n"
      ]
    }
  ]
}